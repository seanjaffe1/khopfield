{
 "cells": [
  {
   "cell_type": "code",
   "execution_count": 2,
   "metadata": {},
   "outputs": [],
   "source": [
    "import torch\n",
    "from torchvision import datasets, transforms\n",
    "from torch.utils.data import DataLoader\n",
    "\n",
    "import matplotlib.pyplot as plt\n",
    "from lml import LML"
   ]
  },
  {
   "cell_type": "code",
   "execution_count": 3,
   "metadata": {},
   "outputs": [],
   "source": [
    "# upload mnist\n",
    "\n",
    "\n",
    "def load_mnist(batch_size=64, is_train=True):\n",
    "    transform = transforms.Compose([\n",
    "        transforms.ToTensor(),\n",
    "        transforms.Normalize((0.1307,), (0.3081,))\n",
    "    ])\n",
    "\n",
    "    dataset = datasets.MNIST(\n",
    "        root='~/data', train=is_train, download=True, transform=transform)\n",
    "    loader = DataLoader(dataset, batch_size=batch_size, shuffle=True)\n",
    "\n",
    "    return loader\n",
    "\n",
    "\n"
   ]
  },
  {
   "cell_type": "code",
   "execution_count": 4,
   "metadata": {},
   "outputs": [],
   "source": [
    "# get first k images and store in k x 28**2 matrix\n",
    "def get_k_images(k, loader):\n",
    "    images = []\n",
    "    labels = []\n",
    "    for i, (image, label) in enumerate(loader):\n",
    "        if i == k:\n",
    "            break\n",
    "        images.append(image.view(-1, 28**2))\n",
    "        labels.append(label)\n",
    "\n",
    "    images = torch.cat(images, dim=0)\n",
    "    labels = torch.cat(labels, dim=0)\n",
    "    return images, labels\n"
   ]
  },
  {
   "cell_type": "code",
   "execution_count": 5,
   "metadata": {},
   "outputs": [],
   "source": [
    "images, labels = get_k_images(100, load_mnist())"
   ]
  },
  {
   "cell_type": "code",
   "execution_count": 6,
   "metadata": {},
   "outputs": [
    {
     "data": {
      "text/plain": [
       "(torch.Size([6400, 784]), torch.Size([6400]))"
      ]
     },
     "execution_count": 6,
     "metadata": {},
     "output_type": "execute_result"
    }
   ],
   "source": [
    "images.shape, labels.shape"
   ]
  },
  {
   "cell_type": "code",
   "execution_count": 196,
   "metadata": {},
   "outputs": [],
   "source": [
    "def get_dists(X, x):\n",
    "    # X in 1 x N x n\n",
    "    # x in 1 x n x 1\n",
    "    #return X @ x\n",
    "    print(X.shape, x.T.shape)\n",
    "    # add batch dimension to X\n",
    "\n",
    "    return torch.cdist(X.unsqueeze(0), x.t().unsqueeze(0), p=2).squeeze(0) **2"
   ]
  },
  {
   "cell_type": "code",
   "execution_count": 7,
   "metadata": {},
   "outputs": [
    {
     "data": {
      "image/png": "[encoded data removed]",
      "text/plain": [
       "<Figure size 720x720 with 10 Axes>"
      ]
     },
     "metadata": {
      "needs_background": "light"
     },
     "output_type": "display_data"
    }
   ],
   "source": [
    "# print first 10 images\n",
    "fig = plt.figure(figsize=(10, 10))\n",
    "for i in range(10):\n",
    "    plt.subplot(1, 10, i+1)\n",
    "    plt.imshow(images[i].view(28, 28), cmap='gray')\n",
    "    plt.axis('off')"
   ]
  },
  {
   "cell_type": "code",
   "execution_count": 143,
   "metadata": {},
   "outputs": [],
   "source": [
    "def ssm(x, k, beta):\n",
    "    return LML(N=k, n_iter = 200,eps = 1e-3)(beta * x)\n"
   ]
  },
  {
   "cell_type": "code",
   "execution_count": 181,
   "metadata": {},
   "outputs": [],
   "source": [
    "def hopfield(Xi,  x, beta):\n",
    "    # x is 1 x n\n",
    "\n",
    "    return  Xi.t() @ torch.softmax(-1*beta * get_dists(Xi, x), dim=0)"
   ]
  },
  {
   "cell_type": "code",
   "execution_count": 193,
   "metadata": {},
   "outputs": [],
   "source": [
    "def k_softmax(beta, x, k):\n",
    "    #beta: int, x: N x 1\n",
    "    # returns N x k\n",
    "    assert (k >=1)\n",
    "    result = torch.zeros(x.shape[1], k)\n",
    "    result[:, 0] = torch.softmax(beta * x, dim=1)\n",
    "    last_ssm = result[:, 0] \n",
    "    for i in range(1, k):\n",
    "        new_ssm  = ssm(x, i+1, beta)\n",
    "        result[:, i] = new_ssm - last_ssm\n",
    "        last_ssm = new_ssm\n",
    "    return result\n",
    "\n",
    "def k_hopfield(Xi, x, beta, k, hopfield_steps = 1):\n",
    "    # Xi: N x n, beta: int, x in nx1\n",
    "    assert (Xi.shape[1] == x.shape[1])\n",
    "\n",
    "    dists = get_dists(Xi, x.t()).t()\n",
    "    k_states =  Xi.t() @ k_softmax(beta, -1* dists, k)\n",
    "\n",
    "\n",
    "    assert (k_states.shape[0] == Xi.shape[1])\n",
    "    assert (k_states.shape[1] == k)\n",
    "    new_states = k_states\n",
    "    for i in range(hopfield_steps):\n",
    "        for j in range(k):\n",
    "            new_states[:, j:j+1]= hopfield(Xi=Xi, x = k_states[:,j:j+1], beta =beta)\n",
    "    return new_states"
   ]
  },
  {
   "cell_type": "code",
   "execution_count": 51,
   "metadata": {},
   "outputs": [],
   "source": [
    "x = torch.randn(1, 10)"
   ]
  },
  {
   "cell_type": "code",
   "execution_count": 52,
   "metadata": {},
   "outputs": [
    {
     "data": {
      "text/plain": [
       "tensor([[0.1216, 0.1228, 0.0540, 0.0471, 0.0629, 0.2350, 0.0735, 0.0203, 0.1644,\n",
       "         0.0985]])"
      ]
     },
     "execution_count": 52,
     "metadata": {},
     "output_type": "execute_result"
    }
   ],
   "source": [
    "LML(N=1, n_iter = 600)(x)"
   ]
  },
  {
   "cell_type": "code",
   "execution_count": 53,
   "metadata": {},
   "outputs": [
    {
     "data": {
      "text/plain": [
       "tensor([[0.1188, 0.1201, 0.0490, 0.0424, 0.0577, 0.2636, 0.0681, 0.0178, 0.1688,\n",
       "         0.0937]])"
      ]
     },
     "execution_count": 53,
     "metadata": {},
     "output_type": "execute_result"
    }
   ],
   "source": [
    "torch.softmax(x, dim=1)"
   ]
  },
  {
   "cell_type": "code",
   "execution_count": 147,
   "metadata": {},
   "outputs": [
    {
     "data": {
      "image/png": "[encoded data removed]",
      "text/plain": [
       "<Figure size 720x720 with 7 Axes>"
      ]
     },
     "metadata": {
      "needs_background": "light"
     },
     "output_type": "display_data"
    }
   ],
   "source": [
    "X = images[:7] \n",
    "# display X\n",
    "fig = plt.figure(figsize=(10, 10))\n",
    "for i in range(7):\n",
    "    plt.subplot(1, 7, i+1)\n",
    "    plt.imshow(X[i].view(28, 28), cmap='gray')\n",
    "    plt.axis('off')\n",
    "    "
   ]
  },
  {
   "cell_type": "code",
   "execution_count": 198,
   "metadata": {},
   "outputs": [
    {
     "name": "stdout",
     "output_type": "stream",
     "text": [
      "torch.Size([1500, 784]) torch.Size([1, 784])\n",
      "torch.Size([1500, 784]) torch.Size([1, 784])\n",
      "torch.Size([1500, 784]) torch.Size([1, 784])\n",
      "torch.Size([1500, 784]) torch.Size([1, 784])\n",
      "torch.Size([1500, 784]) torch.Size([1, 784])\n",
      "torch.Size([1500, 784]) torch.Size([1, 784])\n",
      "torch.Size([1500, 784]) torch.Size([1, 784])\n",
      "torch.Size([1500, 784]) torch.Size([1, 784])\n",
      "torch.Size([1500, 784]) torch.Size([1, 784])\n",
      "torch.Size([1500, 784]) torch.Size([1, 784])\n",
      "torch.Size([1500, 784]) torch.Size([1, 784])\n",
      "torch.Size([1500, 784]) torch.Size([1, 784])\n",
      "torch.Size([1500, 784]) torch.Size([1, 784])\n",
      "torch.Size([1500, 784]) torch.Size([1, 784])\n",
      "torch.Size([1500, 784]) torch.Size([1, 784])\n",
      "torch.Size([1500, 784]) torch.Size([1, 784])\n"
     ]
    },
    {
     "data": {
      "image/png": "[encoded data removed]",
      "text/plain": [
       "<Figure size 720x720 with 5 Axes>"
      ]
     },
     "metadata": {
      "needs_background": "light"
     },
     "output_type": "display_data"
    }
   ],
   "source": [
    "y = k_hopfield(Xi=images[0:1500], x=X[0:1], beta = 5,  k=5, hopfield_steps=3)\n",
    "\n",
    "# display y\n",
    "fig = plt.figure(figsize=(10, 10))\n",
    "for i in range(y.shape[1]):\n",
    "    plt.subplot(1, 7, i+1)\n",
    "    plt.imshow(y[:,i].view(28, 28), cmap='gray')\n",
    "    plt.axis('off')"
   ]
  },
  {
   "cell_type": "code",
   "execution_count": 186,
   "metadata": {},
   "outputs": [
    {
     "name": "stdout",
     "output_type": "stream",
     "text": [
      "torch.Size([10, 784]) torch.Size([1, 784])\n"
     ]
    }
   ],
   "source": [
    "y = hopfield(Xi=images[0:10], x=images[0:1].t(), beta = 10)"
   ]
  },
  {
   "cell_type": "code",
   "execution_count": 187,
   "metadata": {},
   "outputs": [
    {
     "data": {
      "image/png": "[encoded data removed]",
      "text/plain": [
       "<Figure size 720x720 with 1 Axes>"
      ]
     },
     "metadata": {
      "needs_background": "light"
     },
     "output_type": "display_data"
    }
   ],
   "source": [
    "# display y\n",
    "fig = plt.figure(figsize=(10, 10))\n",
    "for i in range(y.shape[1]):\n",
    "    plt.subplot(1, 7, i+1)\n",
    "    plt.imshow(y[:,i].view(28, 28), cmap='gray')\n",
    "    plt.axis('off')\n",
    "    "
   ]
  },
  {
   "cell_type": "markdown",
   "metadata": {},
   "source": [
    "# Optimization code"
   ]
  },
  {
   "cell_type": "code",
   "execution_count": 12,
   "metadata": {},
   "outputs": [],
   "source": [
    "import cvxpy as cp\n",
    "import torch\n",
    "from cvxpylayers.torch import CvxpyLayer\n"
   ]
  },
  {
   "cell_type": "code",
   "execution_count": 81,
   "metadata": {},
   "outputs": [],
   "source": [
    "k = 2\n",
    "n = 28**2\n",
    "N = 500\n",
    "y = cp.Variable(N)\n",
    "x = cp.Parameter(N)\n",
    "\n",
    "objective = cp.Minimize( -x.T @ y  - cp.sum(cp.entr(y)   + cp.entr(1 - y)) )\n",
    "constraints = [cp.sum(y) == k, y >= 0, y <= 1]\n",
    "problem = cp.Problem(objective, constraints)\n",
    "assert problem.is_dpp()"
   ]
  },
  {
   "cell_type": "code",
   "execution_count": 82,
   "metadata": {},
   "outputs": [
    {
     "ename": "TypeError",
     "evalue": "get_problem_data() got an unexpected keyword argument 'solver_opts'",
     "output_type": "error",
     "traceback": [
      "\u001b[0;31m---------------------------------------------------------------------------\u001b[0m",
      "\u001b[0;31mTypeError\u001b[0m                                 Traceback (most recent call last)",
      "\u001b[0;32m<ipython-input-82-4a91b6935188>\u001b[0m in \u001b[0;36m<module>\u001b[0;34m\u001b[0m\n\u001b[0;32m----> 1\u001b[0;31m \u001b[0mcvxpylayer\u001b[0m \u001b[0;34m=\u001b[0m \u001b[0mCvxpyLayer\u001b[0m\u001b[0;34m(\u001b[0m\u001b[0mproblem\u001b[0m\u001b[0;34m,\u001b[0m \u001b[0mparameters\u001b[0m\u001b[0;34m=\u001b[0m\u001b[0;34m[\u001b[0m\u001b[0mx\u001b[0m\u001b[0;34m]\u001b[0m\u001b[0;34m,\u001b[0m \u001b[0mvariables\u001b[0m\u001b[0;34m=\u001b[0m\u001b[0;34m[\u001b[0m\u001b[0my\u001b[0m\u001b[0;34m]\u001b[0m\u001b[0;34m)\u001b[0m\u001b[0;34m\u001b[0m\u001b[0;34m\u001b[0m\u001b[0m\n\u001b[0m",
      "\u001b[0;32m~/graph3/lib/python3.6/site-packages/cvxpylayers/torch/cvxpylayer.py\u001b[0m in \u001b[0;36m__init__\u001b[0;34m(self, problem, parameters, variables, gp)\u001b[0m\n\u001b[1;32m    113\u001b[0m         \u001b[0;32melse\u001b[0m\u001b[0;34m:\u001b[0m\u001b[0;34m\u001b[0m\u001b[0;34m\u001b[0m\u001b[0m\n\u001b[1;32m    114\u001b[0m             data, _, _ = problem.get_problem_data(\n\u001b[0;32m--> 115\u001b[0;31m                 solver=cp.SCS, solver_opts={'use_quad_obj': False})\n\u001b[0m\u001b[1;32m    116\u001b[0m             \u001b[0mself\u001b[0m\u001b[0;34m.\u001b[0m\u001b[0mcompiler\u001b[0m \u001b[0;34m=\u001b[0m \u001b[0mdata\u001b[0m\u001b[0;34m[\u001b[0m\u001b[0mcp\u001b[0m\u001b[0;34m.\u001b[0m\u001b[0msettings\u001b[0m\u001b[0;34m.\u001b[0m\u001b[0mPARAM_PROB\u001b[0m\u001b[0;34m]\u001b[0m\u001b[0;34m\u001b[0m\u001b[0;34m\u001b[0m\u001b[0m\n\u001b[1;32m    117\u001b[0m             \u001b[0mself\u001b[0m\u001b[0;34m.\u001b[0m\u001b[0mparam_ids\u001b[0m \u001b[0;34m=\u001b[0m \u001b[0;34m[\u001b[0m\u001b[0mp\u001b[0m\u001b[0;34m.\u001b[0m\u001b[0mid\u001b[0m \u001b[0;32mfor\u001b[0m \u001b[0mp\u001b[0m \u001b[0;32min\u001b[0m \u001b[0mself\u001b[0m\u001b[0;34m.\u001b[0m\u001b[0mparam_order\u001b[0m\u001b[0;34m]\u001b[0m\u001b[0;34m\u001b[0m\u001b[0;34m\u001b[0m\u001b[0m\n",
      "\u001b[0;31mTypeError\u001b[0m: get_problem_data() got an unexpected keyword argument 'solver_opts'"
     ]
    }
   ],
   "source": [
    "cvxpylayer = CvxpyLayer(problem, parameters=[x], variables=[y])"
   ]
  },
  {
   "cell_type": "code",
   "execution_count": 77,
   "metadata": {},
   "outputs": [],
   "source": [
    "weights = X[0] @ images[0:N].t()\n",
    "# convert weights to numpy array\n",
    "weights = weights.detach().numpy()\n",
    "x.value = weights\n"
   ]
  },
  {
   "cell_type": "code",
   "execution_count": 78,
   "metadata": {},
   "outputs": [
    {
     "data": {
      "text/plain": [
       "inf"
      ]
     },
     "execution_count": 78,
     "metadata": {},
     "output_type": "execute_result"
    }
   ],
   "source": [
    "problem.solve(requires_grad=True)"
   ]
  },
  {
   "cell_type": "code",
   "execution_count": 79,
   "metadata": {},
   "outputs": [
    {
     "data": {
      "text/plain": [
       "array([ 1.00000001e+00,  9.19053634e-09,  9.37982119e-09,  9.43473332e-09,\n",
       "        9.27597622e-09,  9.56408669e-09,  9.18154610e-09,  9.64285084e-09,\n",
       "        9.23791129e-09,  9.42653823e-09,  9.35713666e-09,  9.31930806e-09,\n",
       "        9.31860960e-09,  9.47284391e-09,  9.20218743e-09,  9.34550173e-09,\n",
       "        9.50684783e-09,  9.51071237e-09,  9.12773035e-09,  9.34028945e-09,\n",
       "        9.06327908e-09,  9.21979901e-09,  9.21531531e-09,  9.28070605e-09,\n",
       "        9.56474830e-09,  9.36076982e-09,  9.22636973e-09,  9.39750865e-09,\n",
       "        9.31242041e-09,  9.26261665e-09,  9.20239709e-09,  9.43567913e-09,\n",
       "        9.52758516e-09,  9.28128505e-09,  9.24928922e-09,  9.27058026e-09,\n",
       "        9.06928073e-09,  9.26678703e-09,  9.30561845e-09,  9.28434121e-09,\n",
       "        9.42795735e-09,  9.41556355e-09,  9.30806875e-09,  9.33023398e-09,\n",
       "        9.40264871e-09,  9.31997673e-09,  9.32368954e-09,  9.05683065e-09,\n",
       "        9.26653041e-09,  9.36989599e-09,  9.32047647e-09,  9.47370263e-09,\n",
       "        9.25921696e-09,  9.14981466e-09,  9.44620798e-09,  9.16001216e-09,\n",
       "        9.56672122e-09,  9.33842308e-09,  9.59272227e-09,  9.56857210e-09,\n",
       "        9.11726019e-09,  9.29904217e-09,  9.43177076e-09,  9.44448058e-09,\n",
       "        9.15001911e-09,  9.25147442e-09,  9.20081879e-09,  9.40508205e-09,\n",
       "        9.28066560e-09,  9.15839221e-09,  9.13928148e-09,  9.29504493e-09,\n",
       "        9.35037561e-09,  9.37864110e-09,  9.41401791e-09,  9.53732247e-09,\n",
       "        9.20899239e-09,  9.46253864e-09,  9.21096744e-09,  9.46134923e-09,\n",
       "        9.17740098e-09,  9.23416382e-09,  9.46524998e-09,  9.16353649e-09,\n",
       "        9.12987227e-09,  9.44953993e-09,  9.27045636e-09,  9.28716641e-09,\n",
       "        9.26475924e-09,  9.21013747e-09,  9.02963880e-09,  9.12396711e-09,\n",
       "        9.55117921e-09,  9.51076002e-09,  9.09060872e-09,  9.30500170e-09,\n",
       "        9.29613405e-09,  9.52483133e-09,  9.28308065e-09,  9.25185063e-09,\n",
       "        9.35495063e-09,  9.36090705e-09,  9.23563891e-09,  9.36366469e-09,\n",
       "        9.19019277e-09,  9.30470230e-09,  9.30027040e-09,  9.17050276e-09,\n",
       "        9.02043877e-09,  9.29230892e-09,  1.00000001e+00,  9.48461097e-09,\n",
       "        9.22450082e-09,  9.42007370e-09,  9.23857866e-09,  9.21017852e-09,\n",
       "        9.40582848e-09,  9.12949520e-09,  9.36257055e-09,  9.15474078e-09,\n",
       "        9.37438339e-09,  9.43692987e-09,  9.50579115e-09,  9.47383716e-09,\n",
       "        9.06161444e-09,  9.26471323e-09,  9.42623400e-09,  9.45673761e-09,\n",
       "        9.36325563e-09,  9.06088808e-09,  9.09087206e-09,  9.36106885e-09,\n",
       "        9.24694882e-09,  9.30362224e-09,  9.32942927e-09,  9.13304123e-09,\n",
       "        9.21036579e-09,  9.20398712e-09,  9.46338125e-09,  9.35231642e-09,\n",
       "        9.51767201e-09,  9.14195504e-09,  9.27516970e-09,  9.34230439e-09,\n",
       "        9.32912026e-09,  9.24737540e-09,  9.51632608e-09,  9.04322644e-09,\n",
       "        9.50447461e-09,  9.32359389e-09,  9.44738263e-09,  9.32279820e-09,\n",
       "        9.21136406e-09,  9.37496558e-09,  9.13025941e-09,  9.34068346e-09,\n",
       "        9.09996740e-09,  9.15741351e-09,  9.24102115e-09,  9.21003830e-09,\n",
       "        9.31484446e-09,  9.48362278e-09,  9.25780144e-09,  9.39226405e-09,\n",
       "        9.28330173e-09,  9.19164229e-09,  9.25512000e-09,  9.34446465e-09,\n",
       "        9.34263208e-09,  9.08087726e-09,  9.49702291e-09,  9.16499215e-09,\n",
       "        9.07653138e-09,  9.35692504e-09,  9.32055840e-09,  9.30820529e-09,\n",
       "        9.18886016e-09,  9.44862842e-09,  9.35470723e-09,  9.46568207e-09,\n",
       "        9.32794221e-09,  9.33678475e-09,  9.13082530e-09,  9.44342973e-09,\n",
       "        9.07110913e-09,  9.26995103e-09,  9.64893849e-09,  9.22046833e-09,\n",
       "        9.20564621e-09,  9.20584797e-09,  9.14866483e-09,  9.24304258e-09,\n",
       "        9.40527806e-09,  9.45467648e-09,  9.14743602e-09,  9.19958514e-09,\n",
       "        9.37871809e-09,  9.42024627e-09,  9.28262751e-09,  9.27994266e-09,\n",
       "        9.15639126e-09,  9.54470127e-09,  9.35915550e-09,  9.32209212e-09,\n",
       "        9.30402098e-09,  9.24785368e-09,  9.24617102e-09,  9.13788462e-09,\n",
       "        9.38237332e-09,  9.19606900e-09,  9.38976197e-09,  9.38447098e-09,\n",
       "        9.22090915e-09,  9.34360125e-09,  9.32956213e-09,  9.43123033e-09,\n",
       "        9.15584296e-09,  9.14658703e-09,  9.27005774e-09,  9.52785537e-09,\n",
       "        9.65476472e-09,  9.22542848e-09,  9.22628312e-09,  9.20199843e-09,\n",
       "        9.25363082e-09,  9.22981547e-09,  9.15141636e-09,  9.59259238e-09,\n",
       "        9.29191753e-09,  9.27439817e-09,  9.35419269e-09,  9.32559561e-09,\n",
       "        9.26573765e-09,  9.18665307e-09,  9.28471784e-09,  9.32166719e-09,\n",
       "        9.20327973e-09,  9.31139913e-09,  9.04309877e-09,  9.26057133e-09,\n",
       "        9.29787464e-09,  9.45860080e-09,  9.38340554e-09,  9.39065442e-09,\n",
       "        9.48773544e-09,  9.15995795e-09,  9.20479458e-09,  9.27226413e-09,\n",
       "        9.17916312e-09,  9.21170586e-09,  9.31740524e-09,  9.28110292e-09,\n",
       "        9.31951961e-09,  9.32574535e-09,  9.31287822e-09,  9.33750836e-09,\n",
       "        9.22867103e-09,  9.38505177e-09,  9.31290799e-09,  9.20945724e-09,\n",
       "        9.19600827e-09,  9.31112734e-09,  9.40807068e-09,  9.20898555e-09,\n",
       "        9.55137302e-09,  9.29104580e-09,  9.60746211e-09,  9.29026242e-09,\n",
       "        9.62785106e-09,  9.48341505e-09, -4.64429881e-06,  9.45601614e-09,\n",
       "        9.39498689e-09,  9.20472833e-09,  9.30377608e-09,  9.35726561e-09,\n",
       "        9.19834662e-09,  9.27346580e-09,  9.22079330e-09,  9.37955531e-09,\n",
       "        9.22464967e-09,  9.38585757e-09,  9.54926898e-09,  9.62067959e-09,\n",
       "        9.25366717e-09,  9.34776317e-09,  9.24790009e-09,  9.24763054e-09,\n",
       "        9.37531689e-09,  9.26936404e-09,  9.12013635e-09,  9.33206058e-09,\n",
       "        9.22229637e-09,  9.13349454e-09,  9.52088105e-09,  9.17598549e-09,\n",
       "        9.61534619e-09,  9.41976363e-09,  9.18258966e-09,  9.20188922e-09,\n",
       "        9.27430598e-09,  9.27382509e-09,  9.34411089e-09,  9.43620442e-09,\n",
       "        9.06303920e-09,  9.40358565e-09,  9.40008454e-09,  9.59034298e-09,\n",
       "        9.29968319e-09,  9.34531605e-09,  9.66672639e-09,  9.10777292e-09,\n",
       "        9.33634367e-09,  9.22905008e-09,  9.41986144e-09,  9.21216849e-09,\n",
       "        9.52847218e-09,  9.54140289e-09,  9.14347693e-09,  9.58755903e-09,\n",
       "        9.10103923e-09,  9.28388562e-09,  9.17559267e-09,  9.18130897e-09,\n",
       "        9.20058136e-09,  9.38535093e-09,  9.58901499e-09,  9.05189232e-09,\n",
       "        9.45031850e-09,  9.48028719e-09,  9.31967513e-09,  9.36663592e-09,\n",
       "        9.12996227e-09,  9.10233856e-09,  9.38257539e-09,  9.34118143e-09,\n",
       "        9.47005615e-09,  9.24366691e-09,  9.69633596e-09,  9.41191419e-09,\n",
       "        9.24139106e-09,  9.28915136e-09,  9.33603083e-09,  9.28978718e-09,\n",
       "        9.22260238e-09,  9.38959724e-09,  9.19964521e-09,  9.39346446e-09,\n",
       "        9.36890955e-09,  9.14461199e-09,  9.24299288e-09,  9.33798784e-09,\n",
       "        9.39209925e-09,  9.13112894e-09,  9.17450308e-09,  9.13811514e-09,\n",
       "        9.13377562e-09,  9.28766323e-09,  9.50438955e-09,  9.55192892e-09,\n",
       "        9.38660121e-09,  9.24566420e-09,  9.04161548e-09,  9.39723060e-09,\n",
       "        9.35323956e-09,  9.28365254e-09,  9.29190145e-09,  9.40335071e-09,\n",
       "        9.36576501e-09,  9.56726621e-09,  9.14045113e-09,  9.10248598e-09,\n",
       "        9.41763298e-09,  9.26411608e-09,  9.08501803e-09,  9.48297766e-09,\n",
       "        9.36796072e-09,  9.22631554e-09,  9.66752725e-09,  9.43624485e-09,\n",
       "        9.18654554e-09,  9.19606472e-09,  9.28927453e-09,  9.36386410e-09,\n",
       "        9.41740293e-09,  9.59802227e-09,  9.48441226e-09,  9.59623177e-09,\n",
       "        9.16295037e-09,  9.22483626e-09,  9.21786727e-09,  9.29560284e-09,\n",
       "        9.21684309e-09,  9.44095282e-09,  9.25161165e-09,  9.19080057e-09,\n",
       "        9.27291883e-09,  9.31745224e-09,  9.23802661e-09,  9.04992507e-09,\n",
       "        9.22709775e-09,  9.43423775e-09,  9.19431351e-09,  9.36104180e-09,\n",
       "        9.34939697e-09,  9.23696116e-09,  9.26480609e-09,  9.45601958e-09,\n",
       "        9.07247894e-09,  9.33778640e-09,  9.07568206e-09,  9.08665811e-09,\n",
       "        9.27898046e-09,  9.36572558e-09,  9.45587999e-09,  9.26468574e-09,\n",
       "        9.30739996e-09,  9.16167946e-09,  9.21808432e-09,  9.29861764e-09,\n",
       "        9.07899608e-09,  9.29509183e-09,  9.50775525e-09,  9.27528931e-09,\n",
       "        9.19476487e-09,  9.50033572e-09,  9.07649567e-09,  9.31777408e-09,\n",
       "        9.12028752e-09,  9.09605992e-09,  9.06295888e-09,  9.25271173e-09,\n",
       "        9.26789800e-09,  9.49851213e-09,  9.31003928e-09,  9.28501361e-09,\n",
       "        9.24351052e-09,  9.31127183e-09,  9.05175600e-09,  9.30620240e-09,\n",
       "        9.24365139e-09,  9.05375389e-09,  9.15523568e-09,  9.27521981e-09,\n",
       "        9.17525416e-09,  9.33143079e-09,  9.50032813e-09,  9.40805011e-09,\n",
       "        9.19998248e-09,  9.39949250e-09,  9.23308478e-09,  9.13814327e-09,\n",
       "        9.30691186e-09,  9.46836832e-09,  9.37715338e-09,  9.34032380e-09,\n",
       "        9.31267240e-09,  9.03295672e-09,  9.29230275e-09,  9.28513734e-09,\n",
       "        9.22724746e-09,  9.49343546e-09,  9.24169875e-09,  9.12976689e-09,\n",
       "        9.27952064e-09,  9.33883294e-09,  9.21375815e-09,  9.59330352e-09,\n",
       "        9.12202976e-09,  9.25121774e-09,  9.49556902e-09,  9.43885092e-09,\n",
       "        9.41029837e-09,  9.39155650e-09,  9.25357374e-09,  9.29539086e-09,\n",
       "        9.20027884e-09,  9.35411650e-09,  9.63988928e-09,  9.31780454e-09,\n",
       "        9.23669010e-09,  9.36845975e-09,  9.32621200e-09,  9.25893121e-09,\n",
       "        9.45659124e-09,  9.39103899e-09,  9.30665742e-09,  9.20530160e-09,\n",
       "        9.38551748e-09,  9.56148036e-09,  9.41185974e-09,  9.35793974e-09,\n",
       "        9.46346993e-09,  9.21237724e-09,  9.47978125e-09,  9.25725055e-09,\n",
       "        9.22149809e-09,  9.33104672e-09,  9.27959298e-09,  9.31195604e-09])"
      ]
     },
     "execution_count": 79,
     "metadata": {},
     "output_type": "execute_result"
    }
   ],
   "source": [
    "y.value"
   ]
  },
  {
   "cell_type": "code",
   "execution_count": 22,
   "metadata": {},
   "outputs": [
    {
     "data": {
      "text/plain": [
       "(torch.Size([784]), torch.Size([500, 784]))"
      ]
     },
     "execution_count": 22,
     "metadata": {},
     "output_type": "execute_result"
    }
   ],
   "source": [
    "X[0].shape, images[0:500].shape"
   ]
  },
  {
   "cell_type": "code",
   "execution_count": 21,
   "metadata": {},
   "outputs": [
    {
     "data": {
      "text/plain": [
       "(-0.5, 27.5, 27.5, -0.5)"
      ]
     },
     "execution_count": 21,
     "metadata": {},
     "output_type": "execute_result"
    },
    {
     "data": {
      "image/png": "[encoded data removed]",
      "text/plain": [
       "<Figure size 720x720 with 1 Axes>"
      ]
     },
     "metadata": {
      "needs_background": "light"
     },
     "output_type": "display_data"
    }
   ],
   "source": [
    "# display X[0]\n",
    "fig = plt.figure(figsize=(10, 10))\n",
    "plt.subplot(1, 7, 1)\n",
    "plt.imshow(X[0].view(28, 28), cmap='gray')\n",
    "plt.axis('off')\n"
   ]
  },
  {
   "cell_type": "code",
   "execution_count": null,
   "metadata": {},
   "outputs": [],
   "source": []
  }
 ],
 "metadata": {
  "kernelspec": {
   "display_name": "graph3",
   "language": "python",
   "name": "graph3"
  },
  "language_info": {
   "codemirror_mode": {
    "name": "ipython",
    "version": 3
   },
   "file_extension": ".py",
   "mimetype": "text/x-python",
   "name": "python",
   "nbconvert_exporter": "python",
   "pygments_lexer": "ipython3",
   "version": "3.6.9"
  },
  "orig_nbformat": 4
 },
 "nbformat": 4,
 "nbformat_minor": 2
}
