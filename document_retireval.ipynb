{
 "cells": [
  {
   "cell_type": "code",
   "execution_count": 150,
   "metadata": {},
   "outputs": [
    {
     "name": "stdout",
     "output_type": "stream",
     "text": [
      "The autoreload extension is already loaded. To reload it, use:\n",
      "  %reload_ext autoreload\n"
     ]
    },
    {
     "name": "stderr",
     "output_type": "stream",
     "text": [
      "Using custom data configuration Maysee--tiny-imagenet-fd536421864cbb86\n",
      "Reusing dataset parquet (/data/home/sjaffe/.cache/huggingface/datasets/zh-plus___parquet/Maysee--tiny-imagenet-fd536421864cbb86/0.0.0/2a3b91fbd88a2c90d1dbbb32b460cf621d31bd5b05b934492fdef7d8d6f236ec)\n"
     ]
    }
   ],
   "source": [
    "import torch\n",
    "from torchvision import datasets, transforms\n",
    "from torch.utils.data import DataLoader, Subset\n",
    "\n",
    "import matplotlib.pyplot as plt\n",
    "from lml import LML\n",
    "\n",
    "from copy import deepcopy\n",
    "\n",
    "from model.layers import KHopfield\n",
    "\n",
    "from model.lml2 import LML2\n",
    "\n",
    "from matplotlib import pyplot as plt\n",
    "# set auto reload\n",
    "%load_ext autoreload\n",
    "%autoreload 2\n",
    "\n",
    "from tqdm.notebook import tqdm\n",
    "import numpy as np\n",
    "\n",
    "import pandas as pd\n",
    "\n",
    "from datasets import load_dataset\n",
    "\n",
    "ti_dataset = load_dataset(\"zh-plus/tiny-imagenet\", split='valid')"
   ]
  },
  {
   "cell_type": "code",
   "execution_count": null,
   "metadata": {},
   "outputs": [],
   "source": []
  },
  {
   "cell_type": "code",
   "execution_count": 140,
   "metadata": {},
   "outputs": [],
   "source": [
    "# load mnist, take the build a matrix of all pairwiase distances\n",
    "# load mnist\n",
    "transform = transforms.Compose([transforms.ToTensor(), transforms.Normalize((0.1307,), (0.3081,))])\n",
    "train_data = datasets.MNIST('~/data', train=True, download=True, transform=transform)\n",
    "test_data = datasets.MNIST('~/data', train=False, download=True, transform=transform)\n",
    "\n",
    "# load data\n",
    "train_loader = DataLoader(train_data, batch_size=1, shuffle=True)\n",
    "test_loader = DataLoader(test_data, batch_size=1, shuffle=False)\n"
   ]
  },
  {
   "cell_type": "code",
   "execution_count": 141,
   "metadata": {},
   "outputs": [
    {
     "name": "stdout",
     "output_type": "stream",
     "text": [
      "Files already downloaded and verified\n"
     ]
    }
   ],
   "source": [
    "# load cifar10 test data\n",
    "transform = transforms.Compose([transforms.ToTensor(), transforms.Normalize((0.4914, 0.4822, 0.4465), (0.2023, 0.1994, 0.2010))])\n",
    "cifar10_test_data = datasets.CIFAR10('~/data', train=False, download=True, transform=transform)\n",
    "cifar10_test_loader = DataLoader(cifar10_test_data, batch_size=1, shuffle=False)\n"
   ]
  },
  {
   "cell_type": "code",
   "execution_count": 138,
   "metadata": {},
   "outputs": [
    {
     "data": {
      "text/plain": [
       "255"
      ]
     },
     "execution_count": 138,
     "metadata": {},
     "output_type": "execute_result"
    }
   ],
   "source": [
    "# max of ciar10\n",
    "cifar10_max = cifar10_test_data.data.max()\n",
    "cifar10_max"
   ]
  },
  {
   "cell_type": "code",
   "execution_count": 136,
   "metadata": {},
   "outputs": [
    {
     "data": {
      "text/plain": [
       "array([0, 0, 0], dtype=uint8)"
      ]
     },
     "execution_count": 136,
     "metadata": {},
     "output_type": "execute_result"
    }
   ],
   "source": [
    "cifar10_min"
   ]
  },
  {
   "cell_type": "code",
   "execution_count": 131,
   "metadata": {},
   "outputs": [],
   "source": [
    "# returns a matrix of pairwaise distances\n",
    "def pair_wise_distance(dataset, norm = 2):\n",
    "    # get the number of samples\n",
    "    n = len(dataset)\n",
    "    # get the dimension of the data\n",
    "    # create a matrix to store the distances\n",
    "    distances = torch.zeros((n, n))\n",
    "    \n",
    "    # create a batch loader\n",
    "\n",
    "    batch_size = 1000\n",
    "    loader = DataLoader(dataset, batch_size=batch_size, shuffle=False)\n",
    "    # iterate over the batches\n",
    "    \n",
    "    inner_loader = DataLoader(dataset, batch_size=batch_size, shuffle=False)\n",
    "    for i, (x, _) in tqdm(enumerate(loader), total=len(loader)):\n",
    "        # compute the distances\n",
    "        for j, (x2, _) in enumerate(inner_loader):\n",
    "            # compute the distancetorch.cdist(x, x2, p=norm)\n",
    "            dists = torch.cdist(x.flatten(start_dim=1), x2.flatten(start_dim=1), p=norm)\n",
    "            distances[i*batch_size:(i+1)*batch_size, j*batch_size:(j+1)*batch_size] = dists\n",
    "    return distances"
   ]
  },
  {
   "cell_type": "code",
   "execution_count": 165,
   "metadata": {},
   "outputs": [
    {
     "name": "stderr",
     "output_type": "stream",
     "text": [
      "Using custom data configuration Maysee--tiny-imagenet-fd536421864cbb86\n",
      "Reusing dataset parquet (/data/home/sjaffe/.cache/huggingface/datasets/zh-plus___parquet/Maysee--tiny-imagenet-fd536421864cbb86/0.0.0/2a3b91fbd88a2c90d1dbbb32b460cf621d31bd5b05b934492fdef7d8d6f236ec)\n"
     ]
    }
   ],
   "source": [
    "# # compute the pairwise distances of test data\n",
    "distances = pair_wise_distance(cifar10_test_data, norm = 2)\n",
    "\n",
    "# # # save in data folder\n",
    "torch.save(distances, 'data/cifar10_test_distances_l1.pt')\n",
    "distances = torch.load('data/cifar10_test_distances_l1.pt')"
   ]
  },
  {
   "cell_type": "code",
   "execution_count": 170,
   "metadata": {},
   "outputs": [],
   "source": [
    "ti_ds = ti_dataset.with_format(\"torch\")"
   ]
  },
  {
   "cell_type": "code",
   "execution_count": 183,
   "metadata": {},
   "outputs": [
    {
     "data": {
      "text/plain": [
       "torch.Size([12288])"
      ]
     },
     "execution_count": 183,
     "metadata": {},
     "output_type": "execute_result"
    }
   ],
   "source": [
    "img = ti_dataset[0]['image']\n",
    "\n",
    "# convert JpegImageFile to tensor\n",
    "img = transforms.ToTensor()(img).flatten()\n",
    "img.shape"
   ]
  },
  {
   "cell_type": "code",
   "execution_count": 235,
   "metadata": {},
   "outputs": [],
   "source": [
    "class TinyImagenetDataset(torch.utils.data.Dataset):\n",
    "    def __init__(self, dataset):\n",
    "        dataset =  load_dataset(\"zh-plus/tiny-imagenet\", split='valid')\n",
    "        self.imgs = []\n",
    "        self.labels = []\n",
    "        for i, d in enumerate(dataset):\n",
    "            \n",
    "            img = transforms.ToTensor()(d['image']).flatten()\n",
    "            if img.shape[0] == 3*64*64:\n",
    "                self.imgs.append(img)\n",
    "                self.labels.append(d['label'])\n",
    "\n",
    "        self.n = len(self.imgs)\n",
    "        \n",
    "    def __len__(self):\n",
    "        return self.n\n",
    "    \n",
    "    def __getitem__(self, idx):\n",
    "        return self.imgs[idx], self.labels[idx]\n",
    "    \n",
    "    def __repr__(self):\n",
    "        return f\"TinyImagenetDataset(n={self.n})\"\n",
    "    \n",
    "# make a wrapper aroudn mnist dataset\n",
    "class DatasetWrapper(torch.utils.data.Dataset):\n",
    "    def __init__(self, dataset):\n",
    "        self.dataset = dataset\n",
    "    def __getitem__(self, index):\n",
    "        return self.dataset[index][0].flatten(), self.dataset[index][1], index\n",
    "    def __len__(self):\n",
    "        return len(self.dataset)\n",
    "    \n",
    "# create a dataset wrapper\n",
    "test_dataset_w = DatasetWrapper(test_data)\n",
    "test_loader_w = DataLoader(test_dataset_w, batch_size=1, shuffle=False)"
   ]
  },
  {
   "cell_type": "code",
   "execution_count": 236,
   "metadata": {},
   "outputs": [
    {
     "name": "stderr",
     "output_type": "stream",
     "text": [
      "Using custom data configuration Maysee--tiny-imagenet-fd536421864cbb86\n",
      "Reusing dataset parquet (/data/home/sjaffe/.cache/huggingface/datasets/zh-plus___parquet/Maysee--tiny-imagenet-fd536421864cbb86/0.0.0/2a3b91fbd88a2c90d1dbbb32b460cf621d31bd5b05b934492fdef7d8d6f236ec)\n",
      "Using custom data configuration Maysee--tiny-imagenet-fd536421864cbb86\n",
      "Reusing dataset parquet (/data/home/sjaffe/.cache/huggingface/datasets/zh-plus___parquet/Maysee--tiny-imagenet-fd536421864cbb86/0.0.0/2a3b91fbd88a2c90d1dbbb32b460cf621d31bd5b05b934492fdef7d8d6f236ec)\n"
     ]
    }
   ],
   "source": [
    "ti_dataset = load_dataset(\"zh-plus/tiny-imagenet\", split='valid')\n",
    "ti_ds = TinyImagenetDataset(ti_dataset)\n",
    "ti_ds_w = DatasetWrapper(ti_ds)"
   ]
  },
  {
   "cell_type": "code",
   "execution_count": 237,
   "metadata": {},
   "outputs": [
    {
     "data": {
      "text/plain": [
       "(tensor([0.9608, 0.9725, 0.9765,  ..., 1.0000, 1.0000, 1.0000]), 0)"
      ]
     },
     "execution_count": 237,
     "metadata": {},
     "output_type": "execute_result"
    }
   ],
   "source": [
    "ti_ds.imgs[0].shape\n",
    "ti_ds[0]"
   ]
  },
  {
   "cell_type": "code",
   "execution_count": 239,
   "metadata": {},
   "outputs": [],
   "source": [
    "for img, l in ti_ds:\n",
    "    if img.shape[0] != 3*64*64:\n",
    "        print(img.shape)"
   ]
  },
  {
   "cell_type": "code",
   "execution_count": 240,
   "metadata": {},
   "outputs": [
    {
     "data": {
      "application/vnd.jupyter.widget-view+json": {
       "model_id": "0aee01b92c2a4a9582fcd7e38a4fa31a",
       "version_major": 2,
       "version_minor": 0
      },
      "text/plain": [
       "  0%|          | 0/10 [00:00<?, ?it/s]"
      ]
     },
     "metadata": {},
     "output_type": "display_data"
    }
   ],
   "source": [
    "distances = pair_wise_distance(ti_ds, norm = 1)\n",
    "\n",
    "# # # save in data folder\n",
    "torch.save(distances, 'data/tinyimagenet_test_distances_l1.pt')\n",
    "distances = torch.load('data/tinyimagenet_test_distances_l1.pt')"
   ]
  },
  {
   "cell_type": "code",
   "execution_count": 242,
   "metadata": {},
   "outputs": [
    {
     "data": {
      "text/plain": [
       "tensor([   0.0000, 4512.1357, 3121.8987,  ..., 3717.7961, 3050.6807,\n",
       "        3888.5110])"
      ]
     },
     "execution_count": 242,
     "metadata": {},
     "output_type": "execute_result"
    }
   ],
   "source": [
    "distances[0]"
   ]
  },
  {
   "cell_type": "code",
   "execution_count": 247,
   "metadata": {},
   "outputs": [
    {
     "data": {
      "text/plain": [
       "tensor([   0.0000, 5465.3311, 4053.3059,  ..., 4516.2466, 3398.4976,\n",
       "        3268.8760])"
      ]
     },
     "execution_count": 247,
     "metadata": {},
     "output_type": "execute_result"
    }
   ],
   "source": [
    "distances = torch.load('data/cifar10_test_distances_l1.pt')\n",
    "distances[0]"
   ]
  },
  {
   "cell_type": "code",
   "execution_count": 248,
   "metadata": {},
   "outputs": [
    {
     "data": {
      "text/plain": [
       "tensor([  0.0000, 498.8451, 301.4682,  ..., 331.5323, 379.2887, 597.4507])"
      ]
     },
     "execution_count": 248,
     "metadata": {},
     "output_type": "execute_result"
    }
   ],
   "source": [
    "distances = torch.load('data/mnist_test_distances_l1.pt')\n",
    "distances[0]"
   ]
  },
  {
   "cell_type": "code",
   "execution_count": 274,
   "metadata": {},
   "outputs": [],
   "source": [
    "\n",
    "def get_k_retrieval_exp(dataset, memories = 1000, p=1, seed=0, batch_size = 1):\n",
    "    if dataset== 'cifar10':\n",
    "        distances = torch.load('data/cifar10_test_distances_l1.pt')\n",
    "        transform = transforms.Compose([transforms.ToTensor(), transforms.Normalize((0.4914, 0.4822, 0.4465), (0.2023, 0.1994, 0.2010))])\n",
    "        test_data = datasets.CIFAR10('~/data', train=False, download=True, transform=transform)\n",
    "        d = 3*32*32\n",
    "    elif dataset == 'mnist':\n",
    "        distances = torch.load('data/mnist_test_distances_l1.pt')\n",
    "\n",
    "        transform = transforms.Compose([transforms.ToTensor(), transforms.Normalize((0.1307,), (0.3081,))])\n",
    "        test_data = datasets.MNIST('~/data', train=False, download=True, transform=transform)\n",
    "\n",
    "        d = 28*28\n",
    "    elif dataset == 'tinyimagenet':\n",
    "        distances = torch.load('data/tinyimagenet_test_distances_l1.pt')\n",
    "        ti_dataset = load_dataset(\"zh-plus/tiny-imagenet\", split='valid')\n",
    "        test_data = TinyImagenetDataset(ti_dataset)\n",
    "        d = 3*64*64\n",
    "    # get random subset of indices\n",
    "    # set seed\n",
    "    np.random.seed(seed)\n",
    "    indices = np.random.choice(len(test_data), memories, replace=False)\n",
    "    \n",
    "    dataset_subset = Subset(test_data, indices=indices)\n",
    "    dataset_subset_w = DatasetWrapper(dataset_subset)\n",
    "    \n",
    "    test_loader_w = DataLoader(dataset_subset_w, batch_size=batch_size, shuffle=False)\n",
    "\n",
    "    # get only the rows of the distances matrix where the row and column indices are in indices list\n",
    "    distances_subset = distances[indices][:, indices]\n",
    "\n",
    "    # assert diagonal elements of distances_subset are zero\n",
    "    \n",
    "    hopfield = KHopfield(memories, d, p=p)\n",
    "    hopfield.set_memories_from_loader(test_loader_w)\n",
    "    return distances_subset, hopfield, test_loader_w\n",
    "\n",
    "    "
   ]
  },
  {
   "cell_type": "code",
   "execution_count": 251,
   "metadata": {},
   "outputs": [
    {
     "name": "stderr",
     "output_type": "stream",
     "text": [
      "Using custom data configuration Maysee--tiny-imagenet-fd536421864cbb86\n",
      "Reusing dataset parquet (/data/home/sjaffe/.cache/huggingface/datasets/zh-plus___parquet/Maysee--tiny-imagenet-fd536421864cbb86/0.0.0/2a3b91fbd88a2c90d1dbbb32b460cf621d31bd5b05b934492fdef7d8d6f236ec)\n",
      "Using custom data configuration Maysee--tiny-imagenet-fd536421864cbb86\n",
      "Reusing dataset parquet (/data/home/sjaffe/.cache/huggingface/datasets/zh-plus___parquet/Maysee--tiny-imagenet-fd536421864cbb86/0.0.0/2a3b91fbd88a2c90d1dbbb32b460cf621d31bd5b05b934492fdef7d8d6f236ec)\n"
     ]
    }
   ],
   "source": [
    "# make a hopfield network\n",
    "distances, hopfield, test_loader_w = get_k_retrieval_exp('tinyimagenet', memories = 1000, p=1)"
   ]
  },
  {
   "cell_type": "code",
   "execution_count": 255,
   "metadata": {},
   "outputs": [
    {
     "data": {
      "text/plain": [
       "<matplotlib.image.AxesImage at 0x7f3674b5e1d0>"
      ]
     },
     "execution_count": 255,
     "metadata": {},
     "output_type": "execute_result"
    },
    {
     "data": {
      "image/png": "[encoded data removed]",
      "text/plain": [
       "<Figure size 432x288 with 1 Axes>"
      ]
     },
     "metadata": {
      "needs_background": "light"
     },
     "output_type": "display_data"
    }
   ],
   "source": [
    "# print first image in test_loader_w\n",
    "# show first image which is 3x64x64\n",
    "plt.imshow(test_loader_w.dataset[0][0].reshape(3, 64, 64).permute(1, 2, 0))"
   ]
  },
  {
   "cell_type": "code",
   "execution_count": 257,
   "metadata": {},
   "outputs": [
    {
     "data": {
      "text/plain": [
       "<matplotlib.image.AxesImage at 0x7f367499fba8>"
      ]
     },
     "execution_count": 257,
     "metadata": {},
     "output_type": "execute_result"
    },
    {
     "data": {
      "image/png": "[encoded data removed]",
      "text/plain": [
       "<Figure size 432x288 with 1 Axes>"
      ]
     },
     "metadata": {
      "needs_background": "light"
     },
     "output_type": "display_data"
    }
   ],
   "source": [
    "# print first image in memory\n",
    "plt.imshow(hopfield.memories[0].reshape(3, 64, 64).permute(1, 2, 0).detach().numpy(), cmap='gray')"
   ]
  },
  {
   "cell_type": "code",
   "execution_count": 12,
   "metadata": {},
   "outputs": [
    {
     "data": {
      "text/plain": [
       "torch.Size([1000, 784])"
      ]
     },
     "execution_count": 12,
     "metadata": {},
     "output_type": "execute_result"
    }
   ],
   "source": [
    "hopfield.memories.shape"
   ]
  },
  {
   "cell_type": "code",
   "execution_count": 258,
   "metadata": {},
   "outputs": [],
   "source": [
    "\n",
    "def get_k_precission(true_top_k, predicted_top_k):\n",
    "    # true top_k is a torch tensor batch_size x k\n",
    "    # predicted top_k is a torch tensor batch_size x k\n",
    "    # compute the recall which is a b vector\n",
    "    k = predicted_top_k.shape[1]\n",
    "    b = predicted_top_k.shape[0]\n",
    "    # compute the recall\n",
    "    precision = torch.zeros(b)\n",
    "    for i in range(b):\n",
    "        intersection = np.intersect1d(true_top_k[i].numpy(), predicted_top_k[i].numpy())\n",
    "        precision[i] = len(intersection)/k\n",
    "    return precision"
   ]
  },
  {
   "cell_type": "code",
   "execution_count": 259,
   "metadata": {},
   "outputs": [],
   "source": [
    "\n",
    "def get_k_recall(true_top_k, predicted_top_k):\n",
    "    # true top_k is a torch tensor batch_size x k\n",
    "    # predicted top_k is a torch tensor batch_size x k\n",
    "    # compute the recall which is a b vector\n",
    "    k = true_top_k.shape[1]\n",
    "    b = true_top_k.shape[0]\n",
    "    # compute the recall\n",
    "    recall = torch.zeros(b)\n",
    "    for i in range(b):\n",
    "        intersection = np.intersect1d(true_top_k[i].numpy(), predicted_top_k[i].numpy())\n",
    "        recall[i] = len(intersection)/k\n",
    "    return recall"
   ]
  },
  {
   "cell_type": "code",
   "execution_count": 262,
   "metadata": {},
   "outputs": [],
   "source": [
    "def k_recall_exp(test_loader_w, distances, k, seed=0, var=0, beta=1):\n",
    "    total_seen = 0\n",
    "    total_k_recall = torch.zeros(k)\n",
    "    total_k_precision = torch.zeros(k)\n",
    "    for batch_idx, batch in tqdm(enumerate(test_loader_w), total = len(test_loader_w)):\n",
    "        x, y, i = batch\n",
    "        total_seen += len(x)\n",
    "        # get rows of distance matrix from every element in batch\n",
    "\n",
    "        # add noise to x\n",
    "        torch.manual_seed(seed)\n",
    "        x = x + (torch.randn_like(x) * var)\n",
    "        # clamp x\n",
    "        # x = torch.clamp(x, -0.4242, 2.8215)\n",
    "\n",
    "        dists = distances[i]\n",
    "        \n",
    "        # get the top k\n",
    "        top_k = torch.argsort(dists, dim=1)[:, :k]\n",
    "\n",
    "        # k hopfield\n",
    "        scores = hopfield(x,  k=k, beta = beta, hopfield_steps=0, index=True)\n",
    "        reported_argmax = torch.argmax(scores, dim=1)\n",
    "\n",
    "        # uses simple softmax and argsort\n",
    "        # scores = hopfield.soft_index(hopfield.memories, x,  beta = beta)\n",
    "        # reported_argmax = torch.argsort(scores, descending=True, dim=1)[:, :k]\n",
    "\n",
    "\n",
    "        for j in range(1, k+1):\n",
    "            # from https://engineering.fb.com/2017/03/29/data-infrastructure/faiss-a-library-for-efficient-similarity-search/\n",
    "            # recall@k is the fraction of the k most similar items in the database that are also present in the k most similar items in the result of the query.\n",
    "            # # which looks like precision to me but whatever\n",
    "            # k_precision = get_k_precission(top_k, reported_argmax[:,:j])\n",
    "            # total_k_precision[j-1] += torch.sum(k_precision)\n",
    "\n",
    "            k_recall = get_k_recall(top_k[:,:j], reported_argmax[:,:j])\n",
    "            total_k_recall[j-1] += torch.sum(k_recall)\n",
    "        \n",
    "    return total_k_recall / total_seen, total_k_precision / total_seen"
   ]
  },
  {
   "cell_type": "code",
   "execution_count": 288,
   "metadata": {},
   "outputs": [
    {
     "name": "stderr",
     "output_type": "stream",
     "text": [
      "Using custom data configuration Maysee--tiny-imagenet-fd536421864cbb86\n",
      "Reusing dataset parquet (/data/home/sjaffe/.cache/huggingface/datasets/zh-plus___parquet/Maysee--tiny-imagenet-fd536421864cbb86/0.0.0/2a3b91fbd88a2c90d1dbbb32b460cf621d31bd5b05b934492fdef7d8d6f236ec)\n",
      "Using custom data configuration Maysee--tiny-imagenet-fd536421864cbb86\n",
      "Reusing dataset parquet (/data/home/sjaffe/.cache/huggingface/datasets/zh-plus___parquet/Maysee--tiny-imagenet-fd536421864cbb86/0.0.0/2a3b91fbd88a2c90d1dbbb32b460cf621d31bd5b05b934492fdef7d8d6f236ec)\n"
     ]
    }
   ],
   "source": [
    "distances, hopfield, test_loader_w = get_k_retrieval_exp(dataset='tinyimagenet', memories = 1000, p=1,  batch_size =100)"
   ]
  },
  {
   "cell_type": "code",
   "execution_count": 271,
   "metadata": {},
   "outputs": [
    {
     "data": {
      "application/vnd.jupyter.widget-view+json": {
       "model_id": "ca1e4110d8a4495ab19f887747641f16",
       "version_major": 2,
       "version_minor": 0
      },
      "text/plain": [
       "  0%|          | 0/10 [00:00<?, ?it/s]"
      ]
     },
     "metadata": {},
     "output_type": "display_data"
    }
   ],
   "source": [
    "recall, precission = k_recall_exp(test_loader_w, distances, k=50, seed=0, var=1, beta=1)"
   ]
  },
  {
   "cell_type": "code",
   "execution_count": 269,
   "metadata": {},
   "outputs": [
    {
     "data": {
      "text/plain": [
       "tensor([1.0000, 0.7195, 0.6843, 0.6752, 0.6736, 0.6720, 0.6760, 0.6812, 0.6828,\n",
       "        0.6801, 0.6812, 0.6867, 0.6877, 0.6894, 0.6905, 0.6934, 0.6965, 0.6963,\n",
       "        0.6971, 0.6990, 0.7007, 0.7020, 0.7045, 0.7053, 0.7065, 0.7060, 0.7053,\n",
       "        0.7054, 0.7057, 0.7070, 0.7078, 0.7089, 0.7098, 0.7101, 0.7107, 0.7113,\n",
       "        0.7112, 0.7120, 0.7120, 0.7123, 0.7130, 0.7139, 0.7147, 0.7147, 0.7150,\n",
       "        0.7147, 0.7141, 0.7141, 0.7155, 0.7158])"
      ]
     },
     "execution_count": 269,
     "metadata": {},
     "output_type": "execute_result"
    }
   ],
   "source": [
    "# make precision recall plot   \n",
    "# prepend 0 to recall and precision\n",
    "recall"
   ]
  },
  {
   "cell_type": "code",
   "execution_count": 89,
   "metadata": {},
   "outputs": [
    {
     "data": {
      "text/plain": [
       "2"
      ]
     },
     "execution_count": 89,
     "metadata": {},
     "output_type": "execute_result"
    }
   ],
   "source": [
    "len(recall)"
   ]
  },
  {
   "cell_type": "code",
   "execution_count": 289,
   "metadata": {},
   "outputs": [
    {
     "name": "stdout",
     "output_type": "stream",
     "text": [
      "Var: 0\n"
     ]
    },
    {
     "data": {
      "application/vnd.jupyter.widget-view+json": {
       "model_id": "3fbafc91b6d34d43974035be61404c7a",
       "version_major": 2,
       "version_minor": 0
      },
      "text/plain": [
       "  0%|          | 0/10 [00:00<?, ?it/s]"
      ]
     },
     "metadata": {},
     "output_type": "display_data"
    },
    {
     "name": "stdout",
     "output_type": "stream",
     "text": [
      "Var: 0.25\n"
     ]
    },
    {
     "data": {
      "application/vnd.jupyter.widget-view+json": {
       "model_id": "ea5d76afa12446bc8d240ac5a9ad1bf1",
       "version_major": 2,
       "version_minor": 0
      },
      "text/plain": [
       "  0%|          | 0/10 [00:00<?, ?it/s]"
      ]
     },
     "metadata": {},
     "output_type": "display_data"
    },
    {
     "name": "stdout",
     "output_type": "stream",
     "text": [
      "Var: 0.5\n"
     ]
    },
    {
     "data": {
      "application/vnd.jupyter.widget-view+json": {
       "model_id": "52d172284fbc4a6ba6858e39d73004f1",
       "version_major": 2,
       "version_minor": 0
      },
      "text/plain": [
       "  0%|          | 0/10 [00:00<?, ?it/s]"
      ]
     },
     "metadata": {},
     "output_type": "display_data"
    },
    {
     "name": "stdout",
     "output_type": "stream",
     "text": [
      "Var: 0.75\n"
     ]
    },
    {
     "data": {
      "application/vnd.jupyter.widget-view+json": {
       "model_id": "e089daf530ab4f4cad89a9f351f4ffa8",
       "version_major": 2,
       "version_minor": 0
      },
      "text/plain": [
       "  0%|          | 0/10 [00:00<?, ?it/s]"
      ]
     },
     "metadata": {},
     "output_type": "display_data"
    },
    {
     "name": "stdout",
     "output_type": "stream",
     "text": [
      "Var: 1\n"
     ]
    },
    {
     "data": {
      "application/vnd.jupyter.widget-view+json": {
       "model_id": "80885f8e8ba7432ba80f8c648294c1fe",
       "version_major": 2,
       "version_minor": 0
      },
      "text/plain": [
       "  0%|          | 0/10 [00:00<?, ?it/s]"
      ]
     },
     "metadata": {},
     "output_type": "display_data"
    },
    {
     "name": "stdout",
     "output_type": "stream",
     "text": [
      "Var: 1.25\n"
     ]
    },
    {
     "data": {
      "application/vnd.jupyter.widget-view+json": {
       "model_id": "fbcada74d6c14a7eaeeb431b7d64a676",
       "version_major": 2,
       "version_minor": 0
      },
      "text/plain": [
       "  0%|          | 0/10 [00:00<?, ?it/s]"
      ]
     },
     "metadata": {},
     "output_type": "display_data"
    },
    {
     "name": "stdout",
     "output_type": "stream",
     "text": [
      "Var: 1.5\n"
     ]
    },
    {
     "data": {
      "application/vnd.jupyter.widget-view+json": {
       "model_id": "8b43f61196da4f43bd4ceaad0617c2ae",
       "version_major": 2,
       "version_minor": 0
      },
      "text/plain": [
       "  0%|          | 0/10 [00:00<?, ?it/s]"
      ]
     },
     "metadata": {},
     "output_type": "display_data"
    }
   ],
   "source": [
    "# get dists[j,k] where j in i and k in \n",
    "variances = [0, .25, .5, .75, 1, 1.25, 1.5]\n",
    "\n",
    "# make a pandas dataframe to store the results\n",
    "mean_pd = pd.DataFrame(columns=['variance', 'k', 'recall'])\n",
    "std_pd = pd.DataFrame(columns=['variance', 'k', 'recall'])\n",
    "\n",
    "K=50\n",
    "n_trials = 1\n",
    "for var in variances:\n",
    "    print(f\"Var: {var}\")\n",
    "    trials = []\n",
    "    for i in range(n_trials):\n",
    "        recall, precission = k_recall_exp(test_loader_w, distances, k=50, seed=i, var=var, beta=1)\n",
    "        trials.append(recall)\n",
    "    mean = torch.mean(torch.stack(trials), dim=0).detach().numpy()\n",
    "    std = torch.std(torch.stack(trials), dim=0).detach().numpy()\n",
    "\n",
    "    for k in range(1, K+1):\n",
    "        mean_pd = mean_pd.append({'variance': var, 'k': k, 'recall': mean[k-1]}, ignore_index=True)\n",
    "        std_pd = std_pd.append({'variance': var, 'k': k, 'recall': std[k-1]}, ignore_index=True)\n"
   ]
  },
  {
   "cell_type": "code",
   "execution_count": 291,
   "metadata": {},
   "outputs": [
    {
     "name": "stdout",
     "output_type": "stream",
     "text": [
      "saved tinyimagenet\n"
     ]
    }
   ],
   "source": [
    "# save pd frames\n",
    "# mean_pd.to_csv('data/mnist_mean_pd_.csv')\n",
    "# std_pd.to_csv('data/mnist_std_pd.csv')\n",
    "# print(\"saved mnist\")\n",
    "\n",
    "# mean_pd.to_csv('data/cifar10_mean_pd_.csv')\n",
    "# std_pd.to_csv('data/cifar10_std_pd.csv')\n",
    "# print(\"saved cifar10\")\n",
    "\n",
    "mean_pd.to_csv('data/tinyimagenet_mean_pd_.csv')\n",
    "std_pd.to_csv('data/tinyimagenet_std_pd.csv')\n",
    "print(\"saved tinyimagenet\")"
   ]
  },
  {
   "cell_type": "code",
   "execution_count": 354,
   "metadata": {},
   "outputs": [],
   "source": [
    "# make a plot of the results \n",
    "def make_plot(mean_pd, std_pd, variances, title, meta_info=False):\n",
    "    fig, ax = plt.subplots(figsize=(6, 6))\n",
    "    for var in variances:\n",
    "        plt.plot(mean_pd[mean_pd['variance'] == var]['k'], mean_pd[mean_pd['variance'] == var]['recall'], label='$\\sigma^2$: {}'.format(var), linewidth=2)\n",
    "        #plt.fill_between(mean_pd[mean_pd['variance'] == var]['k'], mean_pd[mean_pd['variance'] == var]['recall'] - std_pd[std_pd['variance'] == var]['recall'], mean_pd[mean_pd['variance'] == var]['recall'] + std_pd[std_pd['variance'] == var]['recall'], alpha=.1)\n",
    "    # put legend in lower right corner\n",
    "    plt.xlabel('k')\n",
    "\n",
    "    #make y axis from 0 to 1\n",
    "    plt.ylim(.5, 1)\n",
    "    plt.xlim(1, 50)\n",
    "    #font size\n",
    "    plt.rcParams.update({'font.size': 15})\n",
    "\n",
    "    #title\n",
    "    plt.title(title)\n",
    "    # turn off y tiks\n",
    "    \n",
    "\n",
    "    if meta_info:\n",
    "        plt.ylabel('k-recall@k')\n",
    "        # turn y axis labels on\n",
    "\n",
    "        ax.set_yticklabels([.5, .6, .7, .8, .9, 1])\n",
    "        plt.legend(loc='lower left')\n",
    "\n",
    "    else:\n",
    "        ax.set_yticklabels([])\n",
    "    # add a grid\n",
    "    plt.grid(which='major', axis='both')\n",
    "    # make grid have horizontal lines, even if no y ticks\n",
    "    plt.gca().yaxis.grid(True, which='minor')\n",
    "    plt.tight_layout()\n",
    "\n"
   ]
  },
  {
   "cell_type": "code",
   "execution_count": 355,
   "metadata": {},
   "outputs": [
    {
     "name": "stderr",
     "output_type": "stream",
     "text": [
      "/data/home/sjaffe/graph3/lib/python3.6/site-packages/ipykernel_launcher.py:25: UserWarning: FixedFormatter should only be used together with FixedLocator\n"
     ]
    },
    {
     "data": {
      "image/png": "[encoded data removed]",
      "text/plain": [
       "<Figure size 432x432 with 1 Axes>"
      ]
     },
     "metadata": {
      "needs_background": "light"
     },
     "output_type": "display_data"
    }
   ],
   "source": [
    "# save pd frames\n",
    "# load mnist pds\n",
    "mean_pd = pd.read_csv('data/mnist_mean_pd_.csv')\n",
    "std_pd = pd.read_csv('data/mnist_std_pd.csv')\n",
    "\n",
    "variances = [0, .25, .5, .75, 1, 1.25, 1.5]\n",
    "make_plot(mean_pd, std_pd, variances, title = 'MNIST', meta_info=True)"
   ]
  },
  {
   "cell_type": "code",
   "execution_count": 356,
   "metadata": {},
   "outputs": [
    {
     "data": {
      "image/png": "[encoded data removed]",
      "text/plain": [
       "<Figure size 432x432 with 1 Axes>"
      ]
     },
     "metadata": {
      "needs_background": "light"
     },
     "output_type": "display_data"
    }
   ],
   "source": [
    "# load cifar10 pds\n",
    "mean_pd = pd.read_csv('data/cifar10_mean_pd_.csv')\n",
    "std_pd = pd.read_csv('data/cifar10_std_pd.csv')\n",
    "make_plot(mean_pd, std_pd, variances, title='CIFAR-10', meta_info=False)"
   ]
  },
  {
   "cell_type": "code",
   "execution_count": 357,
   "metadata": {},
   "outputs": [
    {
     "data": {
      "image/png": "[encoded data removed]",
      "text/plain": [
       "<Figure size 432x432 with 1 Axes>"
      ]
     },
     "metadata": {
      "needs_background": "light"
     },
     "output_type": "display_data"
    }
   ],
   "source": [
    "# load tinyimagenet pds\n",
    "mean_pd = pd.read_csv('data/tinyimagenet_mean_pd_.csv')\n",
    "std_pd = pd.read_csv('data/tinyimagenet_std_pd.csv')\n",
    "make_plot(mean_pd, std_pd, variances, 'Tiny ImageNet', meta_info=False)\n"
   ]
  },
  {
   "cell_type": "code",
   "execution_count": 161,
   "metadata": {},
   "outputs": [],
   "source": [
    "# get mean and std of trials\n",
    "def get_mean_std(trials):\n",
    "    mean = torch.zeros(len(trials[0]))\n",
    "    std = torch.zeros(len(trials[0]))\n",
    "    for i in range(len(trials[0])):\n",
    "        mean[i] = torch.mean(torch.stack([t[i] for t in trials]))\n",
    "        std[i] = torch.std(torch.stack([t[i] for t in trials]))\n",
    "    return mean, std\n"
   ]
  },
  {
   "cell_type": "code",
   "execution_count": 166,
   "metadata": {},
   "outputs": [
    {
     "data": {
      "text/plain": [
       "(tensor([1.0000, 0.9848, 0.9800, 0.9789, 0.9772, 0.9775, 0.9786, 0.9786, 0.9781,\n",
       "         0.9767, 0.9782, 0.9769, 0.9782, 0.9795, 0.9780, 0.9774, 0.9762, 0.9758,\n",
       "         0.9750, 0.9754]),\n",
       " tensor([0.0000, 0.0039, 0.0014, 0.0009, 0.0020, 0.0005, 0.0009, 0.0011, 0.0006,\n",
       "         0.0001, 0.0003, 0.0016, 0.0022, 0.0003, 0.0007, 0.0017, 0.0009, 0.0004,\n",
       "         0.0011, 0.0006]))"
      ]
     },
     "execution_count": 166,
     "metadata": {},
     "output_type": "execute_result"
    }
   ],
   "source": [
    "get_mean_std(trials)"
   ]
  },
  {
   "cell_type": "code",
   "execution_count": 167,
   "metadata": {},
   "outputs": [
    {
     "data": {
      "text/plain": [
       "<matplotlib.collections.PolyCollection at 0x7f01a1b34780>"
      ]
     },
     "execution_count": 167,
     "metadata": {},
     "output_type": "execute_result"
    },
    {
     "data": {
      "image/png": "[encoded data removed]",
      "text/plain": [
       "<Figure size 432x288 with 1 Axes>"
      ]
     },
     "metadata": {
      "needs_background": "light"
     },
     "output_type": "display_data"
    }
   ],
   "source": [
    "# plot the mean and std\n",
    "mean, std = get_mean_std(trials)\n",
    "plt.plot(mean)\n",
    "plt.fill_between(np.arange(len(mean)), mean-std, mean+std, alpha=.5)"
   ]
  }
 ],
 "metadata": {
  "kernelspec": {
   "display_name": "graph3",
   "language": "python",
   "name": "graph3"
  },
  "language_info": {
   "codemirror_mode": {
    "name": "ipython",
    "version": 3
   },
   "file_extension": ".py",
   "mimetype": "text/x-python",
   "name": "python",
   "nbconvert_exporter": "python",
   "pygments_lexer": "ipython3",
   "version": "3.6.9"
  },
  "orig_nbformat": 4
 },
 "nbformat": 4,
 "nbformat_minor": 2
}
