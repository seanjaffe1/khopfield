{
 "cells": [
  {
   "cell_type": "code",
   "execution_count": 65,
   "metadata": {},
   "outputs": [
    {
     "name": "stdout",
     "output_type": "stream",
     "text": [
      "The autoreload extension is already loaded. To reload it, use:\n",
      "  %reload_ext autoreload\n"
     ]
    }
   ],
   "source": [
    "import torch\n",
    "from torchvision import datasets, transforms\n",
    "from torch.utils.data import DataLoader\n",
    "\n",
    "import matplotlib.pyplot as plt\n",
    "from lml import LML\n",
    "\n",
    "from copy import deepcopy\n",
    "\n",
    "from model.layers import KHopfield\n",
    "\n",
    "from model.lml2 import LML2\n",
    "\n",
    "from matplotlib import pyplot as plt\n",
    "# set auto reload\n",
    "%load_ext autoreload\n",
    "%autoreload 2\n",
    "\n",
    "from tqdm.notebook import tqdm\n",
    "import numpy as np"
   ]
  },
  {
   "cell_type": "code",
   "execution_count": 2,
   "metadata": {},
   "outputs": [],
   "source": [
    "# load mnist, take the build a matrix of all pairwiase distances\n",
    "# load mnist\n",
    "transform = transforms.Compose([transforms.ToTensor(), transforms.Normalize((0.1307,), (0.3081,))])\n",
    "train_data = datasets.MNIST('~/data', train=True, download=True, transform=transform)\n",
    "test_data = datasets.MNIST('~/data', train=False, download=True, transform=transform)\n",
    "\n",
    "# load data\n",
    "train_loader = DataLoader(train_data, batch_size=1, shuffle=True)\n",
    "test_loader = DataLoader(test_data, batch_size=1, shuffle=False)\n"
   ]
  },
  {
   "cell_type": "code",
   "execution_count": 3,
   "metadata": {},
   "outputs": [],
   "source": [
    "# returns a matrix of pairwaise distances\n",
    "def pair_wise_distance(dataset, norm = 2):\n",
    "    # get the number of samples\n",
    "    n = len(dataset)\n",
    "    # get the dimension of the data\n",
    "    d = len(dataset[0][0].flatten())\n",
    "    # create a matrix to store the distances\n",
    "    distances = torch.zeros((n, n))\n",
    "    \n",
    "    # create a batch loader\n",
    "\n",
    "    batch_size = 1000\n",
    "    loader = DataLoader(dataset, batch_size=batch_size, shuffle=False)\n",
    "    # iterate over the batches\n",
    "    \n",
    "    inner_loader = DataLoader(dataset, batch_size=batch_size, shuffle=False)\n",
    "    for i, (x, _) in tqdm(enumerate(loader), total=len(loader)):\n",
    "        # compute the distances\n",
    "        for j, (x2, _) in enumerate(inner_loader):\n",
    "            # compute the distancetorch.cdist(x, x2, p=norm)\n",
    "            dists = torch.cdist(x.flatten(start_dim=1), x2.flatten(start_dim=1), p=norm)\n",
    "            distances[i*batch_size:(i+1)*batch_size, j*batch_size:(j+1)*batch_size] = dists\n",
    "    return distances"
   ]
  },
  {
   "cell_type": "code",
   "execution_count": 4,
   "metadata": {},
   "outputs": [
    {
     "data": {
      "application/vnd.jupyter.widget-view+json": {
       "model_id": "71ff6403090b4511b6a74c653bc76210",
       "version_major": 2,
       "version_minor": 0
      },
      "text/plain": [
       "  0%|          | 0/10 [00:00<?, ?it/s]"
      ]
     },
     "metadata": {},
     "output_type": "display_data"
    }
   ],
   "source": [
    "# compute the pairwise distances of test data\n",
    "distances = pair_wise_distance(test_data, norm = 2)\n",
    "\n",
    "# # save in data folder\n",
    "torch.save(distances, 'data/mnist_test_distances.pt')\n",
    "distances = torch.load('data/mnist_test_distances.pt')"
   ]
  },
  {
   "cell_type": "code",
   "execution_count": 5,
   "metadata": {},
   "outputs": [
    {
     "data": {
      "text/plain": [
       "tensor([ 0.0000, 36.5752, 27.7038,  ..., 28.9730, 31.2306, 40.4086])"
      ]
     },
     "execution_count": 5,
     "metadata": {},
     "output_type": "execute_result"
    }
   ],
   "source": [
    "# plot the first row of distances\n",
    "distances[0]"
   ]
  },
  {
   "cell_type": "code",
   "execution_count": 6,
   "metadata": {},
   "outputs": [],
   "source": [
    "# make a wrapper aroudn mnist dataset\n",
    "class DatasetWrapper(torch.utils.data.Dataset):\n",
    "    def __init__(self, dataset):\n",
    "        self.dataset = dataset\n",
    "    def __getitem__(self, index):\n",
    "        return self.dataset[index][0].flatten(), self.dataset[index][1], index\n",
    "    def __len__(self):\n",
    "        return len(self.dataset)\n",
    "    \n",
    "# create a dataset wrapper\n",
    "test_dataset_w = DatasetWrapper(test_data)\n",
    "test_loader_w = DataLoader(test_dataset_w, batch_size=1, shuffle=False)\n"
   ]
  },
  {
   "cell_type": "code",
   "execution_count": 8,
   "metadata": {},
   "outputs": [],
   "source": [
    "# make a hopfield network\n",
    "hopfield = KHopfield(len(test_dataset_w), 784)\n",
    "hopfield.set_memories_from_loader(test_loader_w)"
   ]
  },
  {
   "cell_type": "code",
   "execution_count": 9,
   "metadata": {},
   "outputs": [
    {
     "data": {
      "text/plain": [
       "<matplotlib.image.AxesImage at 0x7fb1d35286d8>"
      ]
     },
     "execution_count": 9,
     "metadata": {},
     "output_type": "execute_result"
    },
    {
     "data": {
      "image/png": "[encoded data removed]",
      "text/plain": [
       "<Figure size 432x288 with 1 Axes>"
      ]
     },
     "metadata": {
      "needs_background": "light"
     },
     "output_type": "display_data"
    }
   ],
   "source": [
    "# print first image in test_loader_w\n",
    "plt.imshow(test_loader_w.dataset[0][0].reshape(28, 28), cmap='gray')"
   ]
  },
  {
   "cell_type": "code",
   "execution_count": 10,
   "metadata": {},
   "outputs": [
    {
     "data": {
      "text/plain": [
       "<matplotlib.image.AxesImage at 0x7fb1d3435748>"
      ]
     },
     "execution_count": 10,
     "metadata": {},
     "output_type": "execute_result"
    },
    {
     "data": {
      "image/png": "[encoded data removed]",
      "text/plain": [
       "<Figure size 432x288 with 1 Axes>"
      ]
     },
     "metadata": {
      "needs_background": "light"
     },
     "output_type": "display_data"
    }
   ],
   "source": [
    "# print first image in memory\n",
    "plt.imshow(hopfield.memories[0].reshape(28, 28).detach().numpy(), cmap='gray')"
   ]
  },
  {
   "cell_type": "code",
   "execution_count": 11,
   "metadata": {},
   "outputs": [
    {
     "data": {
      "text/plain": [
       "torch.Size([10000, 784])"
      ]
     },
     "execution_count": 11,
     "metadata": {},
     "output_type": "execute_result"
    }
   ],
   "source": [
    "hopfield.memories.shape"
   ]
  },
  {
   "cell_type": "code",
   "execution_count": 112,
   "metadata": {},
   "outputs": [],
   "source": [
    "test_loader_w = torch.utils.data.DataLoader(test_dataset_w, batch_size=5, shuffle=False)\n",
    "k=10\n",
    "\n",
    "# # set list of k zeros\n",
    "# total_k_recall = torch.zeros(k)\n",
    "# for batch_idx, batch in enumerate(test_loader):\n",
    "#     x, y, i = batch\n",
    "#     # get rows of distance matrix from every element in batch\n",
    "#     dists = distances[i]\n",
    "    \n",
    "#     # get the top k\n",
    "#     top_k = torch.argsort(dists, dim=1)[:, :k]\n",
    "\n",
    "#     reported = hopfield(x,  k=k, beta = 3, hopfield_steps=0, index=True)\n",
    "#     reported_argmax = torch.argmax(reported, dim=1)\n",
    "#     for j in range(k):\n",
    "#         k_recall = get_k_recall(top_k[:j], reported_argmax[:j])\n",
    "#         total_k_recall[j] += torch.sum(k_recall)\n",
    "#     if batch_idx > 1:\n",
    "#         break"
   ]
  },
  {
   "cell_type": "code",
   "execution_count": 113,
   "metadata": {},
   "outputs": [],
   "source": [
    "\n",
    "def get_k_recall(true_top_k, predicted_top_k):\n",
    "    # true top_k is a torch tensor batch_size x k\n",
    "    # predicted top_k is a torch tensor batch_size x k\n",
    "    # compute the recall which is a b vector\n",
    "    k = true_top_k.shape[1]\n",
    "    b = true_top_k.shape[0]\n",
    "    # compute the recall\n",
    "    recall = torch.zeros(b)\n",
    "    for i in range(b):\n",
    "        intersection = np.intersect1d(true_top_k[i].numpy(), predicted_top_k[i].numpy())\n",
    "        recall[i] = len(intersection)/k\n",
    "    return recall"
   ]
  },
  {
   "cell_type": "code",
   "execution_count": 114,
   "metadata": {},
   "outputs": [],
   "source": [
    "def k_recall_exp(test_loader_w, distances, k, seed=None):\n",
    "    total_k_recall = torch.zeros(k)\n",
    "    for batch_idx, batch in enumerate(test_loader_w):\n",
    "        x, y, i = batch\n",
    "        # get rows of distance matrix from every element in batch\n",
    "        dists = distances[i]\n",
    "        \n",
    "        # get the top k\n",
    "        top_k = torch.argsort(dists, dim=1)[:, :k]\n",
    "\n",
    "        scores = hopfield(x,  k=k, beta = 3, hopfield_steps=0, index=True)\n",
    "        reported_argmax = torch.argmax(scores, dim=1)\n",
    "\n",
    "        for j in range(1, k+1):\n",
    "            k_recall = get_k_recall(top_k[:,:j], reported_argmax[:,:j])\n",
    "            print(k_recall)\n",
    "            total_k_recall[j-1] += torch.sum(k_recall)\n",
    "        if batch_idx >=0 :\n",
    "            break\n",
    "    return total_k_recall"
   ]
  },
  {
   "cell_type": "code",
   "execution_count": 115,
   "metadata": {},
   "outputs": [
    {
     "name": "stdout",
     "output_type": "stream",
     "text": [
      "tensor([1., 1., 1., 1., 1.])\n",
      "tensor([1., 1., 1., 1., 1.])\n",
      "tensor([1., 1., 1., 1., 1.])\n",
      "tensor([1., 1., 1., 1., 1.])\n",
      "tensor([1., 1., 1., 1., 1.])\n"
     ]
    }
   ],
   "source": [
    "# get dists[j,k] where j in i and k in i\n",
    "results = k_recall_exp(test_loader_w, distances, k=5)"
   ]
  },
  {
   "cell_type": "code",
   "execution_count": 116,
   "metadata": {},
   "outputs": [
    {
     "data": {
      "text/plain": [
       "tensor([5., 5., 5., 5., 5.])"
      ]
     },
     "execution_count": 116,
     "metadata": {},
     "output_type": "execute_result"
    }
   ],
   "source": [
    "results"
   ]
  },
  {
   "cell_type": "code",
   "execution_count": null,
   "metadata": {},
   "outputs": [],
   "source": []
  }
 ],
 "metadata": {
  "kernelspec": {
   "display_name": "graph3",
   "language": "python",
   "name": "graph3"
  },
  "language_info": {
   "codemirror_mode": {
    "name": "ipython",
    "version": 3
   },
   "file_extension": ".py",
   "mimetype": "text/x-python",
   "name": "python",
   "nbconvert_exporter": "python",
   "pygments_lexer": "ipython3",
   "version": "3.6.9"
  },
  "orig_nbformat": 4
 },
 "nbformat": 4,
 "nbformat_minor": 2
}
