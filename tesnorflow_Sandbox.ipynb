{
 "cells": [
  {
   "cell_type": "code",
   "execution_count": 11,
   "metadata": {},
   "outputs": [],
   "source": [
    "import tensorflow as tf\n",
    "from tqdm.notebook import tqdm"
   ]
  },
  {
   "cell_type": "code",
   "execution_count": 3,
   "metadata": {},
   "outputs": [
    {
     "name": "stdout",
     "output_type": "stream",
     "text": [
      "Downloading data from https://storage.googleapis.com/tensorflow/tf-keras-datasets/train-labels-idx1-ubyte.gz\n",
      "32768/29515 [=================================] - 0s 0us/step\n",
      "40960/29515 [=========================================] - 0s 0us/step\n",
      "Downloading data from https://storage.googleapis.com/tensorflow/tf-keras-datasets/train-images-idx3-ubyte.gz\n",
      "26427392/26421880 [==============================] - 0s 0us/step\n",
      "26435584/26421880 [==============================] - 0s 0us/step\n",
      "Downloading data from https://storage.googleapis.com/tensorflow/tf-keras-datasets/t10k-labels-idx1-ubyte.gz\n",
      "16384/5148 [===============================================================================================] - 0s 0us/step\n",
      "Downloading data from https://storage.googleapis.com/tensorflow/tf-keras-datasets/t10k-images-idx3-ubyte.gz\n",
      "4423680/4422102 [==============================] - 0s 0us/step\n",
      "4431872/4422102 [==============================] - 0s 0us/step\n"
     ]
    }
   ],
   "source": [
    "# upload fashion mnist dataset\n",
    "fashion_mnist = tf.keras.datasets.fashion_mnist\n",
    "\n",
    "# split data\n",
    "(train_images, train_labels), (test_images, test_labels) = fashion_mnist.load_data()"
   ]
  },
  {
   "cell_type": "code",
   "execution_count": 16,
   "metadata": {},
   "outputs": [],
   "source": [
    "# make a tensorflow convnet\n",
    "model = tf.keras.models.Sequential([\n",
    "    tf.keras.layers.Flatten(input_shape=(28, 28)),\n",
    "    tf.keras.layers.Dense(256, activation='relu'),\n",
    "    tf.keras.layers.Dense(10)\n",
    "])\n",
    "\n"
   ]
  },
  {
   "cell_type": "code",
   "execution_count": 17,
   "metadata": {},
   "outputs": [],
   "source": [
    "batch_size = 1000\n",
    "learning_rate = 1e-3\n",
    "epochs = 1\n",
    "\n",
    "# compile the model\n",
    "model.compile(optimizer=tf.keras.optimizers.Adam(learning_rate=learning_rate),\n",
    "              loss=tf.keras.losses.SparseCategoricalCrossentropy(from_logits=True),\n",
    "              metrics=['accuracy'])"
   ]
  },
  {
   "cell_type": "code",
   "execution_count": 18,
   "metadata": {},
   "outputs": [
    {
     "data": {
      "application/vnd.jupyter.widget-view+json": {
       "model_id": "5264ecc8ebfb40a580f39d134429f66a",
       "version_major": 2,
       "version_minor": 0
      },
      "text/plain": [
       "  0%|          | 0/60 [00:00<?, ?it/s]"
      ]
     },
     "metadata": {},
     "output_type": "display_data"
    }
   ],
   "source": [
    "for epoch in range(epochs):\n",
    "    for i in tqdm(range(0, len(train_images), batch_size)):\n",
    "        batch_images = train_images[i:i+batch_size]\n",
    "        batch_labels = train_labels[i:i+batch_size]\n",
    "        model.train_on_batch(batch_images, batch_labels)"
   ]
  },
  {
   "cell_type": "markdown",
   "metadata": {},
   "source": [
    "# My Model"
   ]
  },
  {
   "cell_type": "code",
   "execution_count": 19,
   "metadata": {},
   "outputs": [],
   "source": [
    "# make another\n",
    "class MyModel(tf.keras.Model):\n",
    "    def __init__(self):\n",
    "        super(MyModel, self).__init__()\n",
    "        self.conv1 = tf.keras.layers.Conv2D(32, 3, activation='relu')\n",
    "        self.flatten = tf.keras.layers.Flatten()\n",
    "        self.dense1 = tf.keras.layers.Dense(128, activation='relu')\n",
    "        self.dense2 = tf.keras.layers.Dense(10)\n",
    "        \n",
    "\n",
    "    def call(self, x):\n",
    "        x = self.flatten(x)\n",
    "        x = self.dense1(x)\n",
    "        return self.dense2(x)"
   ]
  },
  {
   "cell_type": "code",
   "execution_count": 20,
   "metadata": {},
   "outputs": [],
   "source": [
    "custom_model = MyModel()\n",
    "\n",
    "# compile the model\n",
    "custom_model.compile(optimizer=tf.keras.optimizers.Adam(learning_rate=learning_rate),\n",
    "              loss=tf.keras.losses.SparseCategoricalCrossentropy(from_logits=True),\n",
    "              metrics=['accuracy'])"
   ]
  },
  {
   "cell_type": "code",
   "execution_count": 21,
   "metadata": {},
   "outputs": [],
   "source": [
    "optimizer = tf.keras.optimizers.Adam(learning_rate=learning_rate)"
   ]
  },
  {
   "cell_type": "code",
   "execution_count": 22,
   "metadata": {},
   "outputs": [],
   "source": [
    "for e in range(1):\n",
    "    for x in range(0, len(train_images), batch_size):\n",
    "        batch_images = train_images[x:x+batch_size]\n",
    "        batch_labels = train_labels[x:x+batch_size]\n",
    "        with tf.GradientTape() as tape:\n",
    "            logits = custom_model(batch_images)\n",
    "            loss = tf.keras.losses.sparse_categorical_crossentropy(batch_labels, logits)\n",
    "        grads = tape.gradient(loss, custom_model.trainable_variables)\n",
    "        optimizer.apply_gradients(zip(grads, custom_model.trainable_variables))"
   ]
  },
  {
   "cell_type": "code",
   "execution_count": 23,
   "metadata": {},
   "outputs": [
    {
     "name": "stdout",
     "output_type": "stream",
     "text": [
      "32/32 [==============================] - 0s 3ms/step - loss: 8.1185 - accuracy: 0.7420\n",
      "32/32 [==============================] - 0s 2ms/step - loss: 381.4910 - accuracy: 0.1910\n",
      "32/32 [==============================] - 0s 2ms/step - loss: 7.3996 - accuracy: 0.7560\n",
      "32/32 [==============================] - 0s 3ms/step - loss: 356.1690 - accuracy: 0.2180\n",
      "32/32 [==============================] - 0s 3ms/step - loss: 7.7723 - accuracy: 0.7560\n",
      "32/32 [==============================] - 0s 2ms/step - loss: 351.1644 - accuracy: 0.2190\n",
      "32/32 [==============================] - 0s 2ms/step - loss: 8.9517 - accuracy: 0.7500\n",
      "32/32 [==============================] - 0s 2ms/step - loss: 364.8179 - accuracy: 0.1980\n",
      "32/32 [==============================] - 0s 2ms/step - loss: 7.1403 - accuracy: 0.7700\n",
      "32/32 [==============================] - 0s 2ms/step - loss: 372.9680 - accuracy: 0.2070\n",
      "32/32 [==============================] - 0s 2ms/step - loss: 8.9596 - accuracy: 0.7330\n",
      "32/32 [==============================] - 0s 2ms/step - loss: 357.0522 - accuracy: 0.2320\n",
      "32/32 [==============================] - 0s 2ms/step - loss: 8.0876 - accuracy: 0.7430\n",
      "32/32 [==============================] - 0s 2ms/step - loss: 343.8315 - accuracy: 0.2210\n",
      "32/32 [==============================] - 0s 2ms/step - loss: 7.3272 - accuracy: 0.7440\n",
      "32/32 [==============================] - 0s 2ms/step - loss: 352.1805 - accuracy: 0.2360\n",
      "32/32 [==============================] - 0s 2ms/step - loss: 8.0205 - accuracy: 0.7510\n",
      "32/32 [==============================] - 0s 2ms/step - loss: 359.7629 - accuracy: 0.2060\n",
      "32/32 [==============================] - 0s 3ms/step - loss: 6.8695 - accuracy: 0.7560\n",
      "32/32 [==============================] - 0s 2ms/step - loss: 363.0652 - accuracy: 0.2100\n"
     ]
    }
   ],
   "source": [
    "# test model\n",
    "for i in range(0, len(test_images), batch_size):\n",
    "    batch_images = test_images[i:i+batch_size]\n",
    "    batch_labels = test_labels[i:i+batch_size]\n",
    "    model.evaluate(batch_images, batch_labels)\n",
    "    custom_model.evaluate(batch_images, batch_labels)"
   ]
  }
 ],
 "metadata": {
  "kernelspec": {
   "display_name": "graph3",
   "language": "python",
   "name": "graph3"
  },
  "language_info": {
   "codemirror_mode": {
    "name": "ipython",
    "version": 3
   },
   "file_extension": ".py",
   "mimetype": "text/x-python",
   "name": "python",
   "nbconvert_exporter": "python",
   "pygments_lexer": "ipython3",
   "version": "3.6.9"
  }
 },
 "nbformat": 4,
 "nbformat_minor": 2
}
